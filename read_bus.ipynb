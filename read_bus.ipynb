{
  "nbformat": 4,
  "nbformat_minor": 0,
  "metadata": {
    "colab": {
      "provenance": [],
      "authorship_tag": "ABX9TyNYBYWJQuc22pbOTV5U7PrX",
      "include_colab_link": true
    },
    "kernelspec": {
      "name": "python3",
      "display_name": "Python 3"
    },
    "language_info": {
      "name": "python"
    }
  },
  "cells": [
    {
      "cell_type": "markdown",
      "metadata": {
        "id": "view-in-github",
        "colab_type": "text"
      },
      "source": [
        "<a href=\"https://colab.research.google.com/github/sudal13/read_bus/blob/main/read_bus.ipynb\" target=\"_parent\"><img src=\"https://colab.research.google.com/assets/colab-badge.svg\" alt=\"Open In Colab\"/></a>"
      ]
    },
    {
      "cell_type": "code",
      "source": [
        "import requests\n",
        "url='http://openapi.gbis.go.kr/ws/rest/buslocationservice?serviceKey=1234567890&routeId=232000061'\n",
        "r = requests.get(url)\n",
        "print(r.text)\n"
      ],
      "metadata": {
        "colab": {
          "base_uri": "https://localhost:8080/"
        },
        "id": "U0f4K-8NphYp",
        "outputId": "1245adfa-6413-4d28-e1d9-2776b2f26848"
      },
      "execution_count": 6,
      "outputs": [
        {
          "output_type": "stream",
          "name": "stdout",
          "text": [
            "<?xml version=\"1.0\" encoding=\"UTF-8\" standalone=\"yes\"?><response><comMsgHeader/><msgHeader><queryTime>2024-03-17 18:28:27.344</queryTime><resultCode>0</resultCode><resultMessage>정상적으로 처리되었습니다.</resultMessage></msgHeader><msgBody><busLocationList><endBus>0</endBus><lowPlate>0</lowPlate><plateNo>경기79바1582</plateNo><plateType>3</plateType><remainSeatCnt>3</remainSeatCnt><routeId>232000061</routeId><stationId>232000427</stationId><stationSeq>67</stationSeq></busLocationList><busLocationList><endBus>0</endBus><lowPlate>0</lowPlate><plateNo>경기79바1589</plateNo><plateType>3</plateType><remainSeatCnt>27</remainSeatCnt><routeId>232000061</routeId><stationId>232000375</stationId><stationSeq>15</stationSeq></busLocationList><busLocationList><endBus>0</endBus><lowPlate>0</lowPlate><plateNo>경기79바6074</plateNo><plateType>3</plateType><remainSeatCnt>31</remainSeatCnt><routeId>232000061</routeId><stationId>115000073</stationId><stationSeq>33</stationSeq></busLocationList><busLocationList><endBus>0</endBus><lowPlate>0</lowPlate><plateNo>경기79바1580</plateNo><plateType>3</plateType><remainSeatCnt>20</remainSeatCnt><routeId>232000061</routeId><stationId>232000096</stationId><stationSeq>10</stationSeq></busLocationList><busLocationList><endBus>0</endBus><lowPlate>0</lowPlate><plateNo>경기79바6258</plateNo><plateType>3</plateType><remainSeatCnt>24</remainSeatCnt><routeId>232000061</routeId><stationId>277103515</stationId><stationSeq>40</stationSeq></busLocationList><busLocationList><endBus>0</endBus><lowPlate>0</lowPlate><plateNo>경기79바1544</plateNo><plateType>3</plateType><remainSeatCnt>27</remainSeatCnt><routeId>232000061</routeId><stationId>232000730</stationId><stationSeq>19</stationSeq></busLocationList><busLocationList><endBus>0</endBus><lowPlate>0</lowPlate><plateNo>경기79바6264</plateNo><plateType>3</plateType><remainSeatCnt>24</remainSeatCnt><routeId>232000061</routeId><stationId>232000739</stationId><stationSeq>25</stationSeq></busLocationList><busLocationList><endBus>0</endBus><lowPlate>0</lowPlate><plateNo>경기79바6033</plateNo><plateType>3</plateType><remainSeatCnt>6</remainSeatCnt><routeId>232000061</routeId><stationId>115000072</stationId><stationSeq>62</stationSeq></busLocationList><busLocationList><endBus>0</endBus><lowPlate>0</lowPlate><plateNo>경기79바1585</plateNo><plateType>3</plateType><remainSeatCnt>16</remainSeatCnt><routeId>232000061</routeId><stationId>232000420</stationId><stationSeq>76</stationSeq></busLocationList><busLocationList><endBus>0</endBus><lowPlate>0</lowPlate><plateNo>경기79바1591</plateNo><plateType>3</plateType><remainSeatCnt>38</remainSeatCnt><routeId>232000061</routeId><stationId>113000421</stationId><stationSeq>44</stationSeq></busLocationList><busLocationList><endBus>0</endBus><lowPlate>0</lowPlate><plateNo>경기79바6148</plateNo><plateType>3</plateType><remainSeatCnt>42</remainSeatCnt><routeId>232000061</routeId><stationId>113000415</stationId><stationSeq>50</stationSeq></busLocationList><busLocationList><endBus>0</endBus><lowPlate>0</lowPlate><plateNo>경기79바1587</plateNo><plateType>3</plateType><remainSeatCnt>29</remainSeatCnt><routeId>232000061</routeId><stationId>232000407</stationId><stationSeq>81</stationSeq></busLocationList><busLocationList><endBus>0</endBus><lowPlate>0</lowPlate><plateNo>경기79바1588</plateNo><plateType>3</plateType><remainSeatCnt>9</remainSeatCnt><routeId>232000061</routeId><stationId>115000588</stationId><stationSeq>57</stationSeq></busLocationList><busLocationList><endBus>0</endBus><lowPlate>0</lowPlate><plateNo>경기79바1543</plateNo><plateType>3</plateType><remainSeatCnt>40</remainSeatCnt><routeId>232000061</routeId><stationId>169000085</stationId><stationSeq>4</stationSeq></busLocationList><busLocationList><endBus>0</endBus><lowPlate>0</lowPlate><plateNo>경기79바1592</plateNo><plateType>3</plateType><remainSeatCnt>32</remainSeatCnt><routeId>232000061</routeId><stationId>169000088</stationId><stationSeq>92</stationSeq></busLocationList><busLocationList><endBus>0</endBus><lowPlate>0</lowPlate><plateNo>경기79바6259</plateNo><plateType>3</plateType><remainSeatCnt>31</remainSeatCnt><routeId>232000061</routeId><stationId>232000389</stationId><stationSeq>28</stationSeq></busLocationList><busLocationList><endBus>0</endBus><lowPlate>0</lowPlate><plateNo>경기79바1505</plateNo><plateType>3</plateType><remainSeatCnt>26</remainSeatCnt><routeId>232000061</routeId><stationId>115000589</stationId><stationSeq>38</stationSeq></busLocationList><busLocationList><endBus>0</endBus><lowPlate>0</lowPlate><plateNo>경기79바1579</plateNo><plateType>3</plateType><remainSeatCnt>32</remainSeatCnt><routeId>232000061</routeId><stationId>115000922</stationId><stationSeq>36</stationSeq></busLocationList><busLocationList><endBus>0</endBus><lowPlate>0</lowPlate><plateNo>경기79바1581</plateNo><plateType>3</plateType><remainSeatCnt>25</remainSeatCnt><routeId>232000061</routeId><stationId>113000412</stationId><stationSeq>54</stationSeq></busLocationList><busLocationList><endBus>0</endBus><lowPlate>0</lowPlate><plateNo>경기79바1596</plateNo><plateType>3</plateType><remainSeatCnt>29</remainSeatCnt><routeId>232000061</routeId><stationId>232000408</stationId><stationSeq>80</stationSeq></busLocationList></msgBody></response>\n"
          ]
        }
      ]
    },
    {
      "cell_type": "code",
      "source": [
        "from bs4 import BeautifulSoup\n",
        "\n",
        "soup = BeautifulSoup(r.text, features=\"xml\")"
      ],
      "metadata": {
        "id": "YCos1sNAs1qW"
      },
      "execution_count": 4,
      "outputs": []
    },
    {
      "cell_type": "code",
      "source": [
        "soup.find_all('stationId')"
      ],
      "metadata": {
        "colab": {
          "base_uri": "https://localhost:8080/"
        },
        "id": "_dAtDXv-s6D-",
        "outputId": "0fd87c6c-d363-48e8-910f-a5dd6545285d"
      },
      "execution_count": 5,
      "outputs": [
        {
          "output_type": "execute_result",
          "data": {
            "text/plain": [
              "[]"
            ]
          },
          "metadata": {},
          "execution_count": 5
        }
      ]
    }
  ]
}