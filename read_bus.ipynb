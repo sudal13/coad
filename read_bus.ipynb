{
  "nbformat": 4,
  "nbformat_minor": 0,
  "metadata": {
    "colab": {
      "provenance": [],
      "authorship_tag": "ABX9TyOnmIjnHvlALuxfk6oLYwtE",
      "include_colab_link": true
    },
    "kernelspec": {
      "name": "python3",
      "display_name": "Python 3"
    },
    "language_info": {
      "name": "python"
    }
  },
  "cells": [
    {
      "cell_type": "markdown",
      "metadata": {
        "id": "view-in-github",
        "colab_type": "text"
      },
      "source": [
        "<a href=\"https://colab.research.google.com/github/sudal13/read_bus/blob/main/read_bus.ipynb\" target=\"_parent\"><img src=\"https://colab.research.google.com/assets/colab-badge.svg\" alt=\"Open In Colab\"/></a>"
      ]
    },
    {
      "cell_type": "code",
      "source": [
        "import requests\n",
        "url='http://apis.data.go.kr/6410000/buslocationservice/getBusLocationList?serviceKey=NX27TU912%2Fk4aFeGKJQINXcHGyNZshD62H2jo4IFcYfIbkpKf%2B4XR3yX6t7YMzVjmlg0gzJyTTKR2K1YN5cLpw%3D%3D&routeId=232000061'\n",
        "#url='http://openapi.gbis.go.kr/ws/rest/buslocationservice?serviceKey=1234567890&routeId=232000061'\n",
        "r = requests.get(url)\n",
        "print(r.text)\n"
      ],
      "metadata": {
        "colab": {
          "base_uri": "https://localhost:8080/"
        },
        "id": "U0f4K-8NphYp",
        "outputId": "5f5fde57-dad1-44d6-ac73-523c8a0ade26"
      },
      "execution_count": 3,
      "outputs": [
        {
          "output_type": "stream",
          "name": "stdout",
          "text": [
            "<OpenAPI_ServiceResponse>\n",
            "\t<cmmMsgHeader>\n",
            "\t\t<errMsg>SERVICE ERROR</errMsg>\n",
            "\t\t<returnAuthMsg>SERVICE_ACCESS_DENIED_ERROR</returnAuthMsg>\n",
            "\t\t<returnReasonCode>20</returnReasonCode>\n",
            "\t</cmmMsgHeader>\n",
            "</OpenAPI_ServiceResponse>\n"
          ]
        }
      ]
    },
    {
      "cell_type": "code",
      "source": [
        "from bs4 import BeautifulSoup\n",
        "\n",
        "soup = BeautifulSoup(r.text, features=\"xml\")"
      ],
      "metadata": {
        "id": "YCos1sNAs1qW"
      },
      "execution_count": 4,
      "outputs": []
    },
    {
      "cell_type": "code",
      "source": [
        "soup.find_all('stationId')"
      ],
      "metadata": {
        "colab": {
          "base_uri": "https://localhost:8080/"
        },
        "id": "_dAtDXv-s6D-",
        "outputId": "0fd87c6c-d363-48e8-910f-a5dd6545285d"
      },
      "execution_count": 5,
      "outputs": [
        {
          "output_type": "execute_result",
          "data": {
            "text/plain": [
              "[]"
            ]
          },
          "metadata": {},
          "execution_count": 5
        }
      ]
    }
  ]
}