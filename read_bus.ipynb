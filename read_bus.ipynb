{
  "nbformat": 4,
  "nbformat_minor": 0,
  "metadata": {
    "colab": {
      "provenance": [],
      "authorship_tag": "ABX9TyNYBYWJQuc22pbOTV5U7PrX",
      "include_colab_link": true
    },
    "kernelspec": {
      "name": "python3",
      "display_name": "Python 3"
    },
    "language_info": {
      "name": "python"
    }
  },
  "cells": [
    {
      "cell_type": "markdown",
      "metadata": {
        "id": "view-in-github",
        "colab_type": "text"
      },
      "source": [
        "<a href=\"https://colab.research.google.com/github/sudal13/read_bus/blob/main/read_bus.ipynb\" target=\"_parent\"><img src=\"https://colab.research.google.com/assets/colab-badge.svg\" alt=\"Open In Colab\"/></a>"
      ]
    },
    {
      "cell_type": "code",
      "source": [
        "import requests\n",
        "url='http://openapi.gbis.go.kr/ws/rest/buslocationservice?serviceKey=1234567890&routeId=232000061'\n",
        "r = requests.get(url)\n",
        "print(r.text)\n"
      ],
      "metadata": {
        "colab": {
          "base_uri": "https://localhost:8080/"
        },
        "id": "U0f4K-8NphYp",
        "outputId": "aed8e46b-4acf-4f37-d03a-6399fedbec0d"
      },
      "execution_count": 10,
      "outputs": [
        {
          "output_type": "stream",
          "name": "stdout",
          "text": [
            "<?xml version=\"1.0\" encoding=\"UTF-8\" standalone=\"yes\"?><response><comMsgHeader/><msgHeader><queryTime>2024-03-17 18:43:34.784</queryTime><resultCode>0</resultCode><resultMessage>정상적으로 처리되었습니다.</resultMessage></msgHeader><msgBody><busLocationList><endBus>0</endBus><lowPlate>0</lowPlate><plateNo>경기79바6258</plateNo><plateType>3</plateType><remainSeatCnt>43</remainSeatCnt><routeId>232000061</routeId><stationId>113000419</stationId><stationSeq>46</stationSeq></busLocationList><busLocationList><endBus>0</endBus><lowPlate>0</lowPlate><plateNo>경기79바6033</plateNo><plateType>3</plateType><remainSeatCnt>10</remainSeatCnt><routeId>232000061</routeId><stationId>232000429</stationId><stationSeq>66</stationSeq></busLocationList><busLocationList><endBus>0</endBus><lowPlate>0</lowPlate><plateNo>경기79바1580</plateNo><plateType>3</plateType><remainSeatCnt>18</remainSeatCnt><routeId>232000061</routeId><stationId>232000379</stationId><stationSeq>14</stationSeq></busLocationList><busLocationList><endBus>0</endBus><lowPlate>0</lowPlate><plateNo>경기79바6074</plateNo><plateType>3</plateType><remainSeatCnt>34</remainSeatCnt><routeId>232000061</routeId><stationId>115000589</stationId><stationSeq>38</stationSeq></busLocationList><busLocationList><endBus>0</endBus><lowPlate>0</lowPlate><plateNo>경기79바1544</plateNo><plateType>3</plateType><remainSeatCnt>25</remainSeatCnt><routeId>232000061</routeId><stationId>232000359</stationId><stationSeq>29</stationSeq></busLocationList><busLocationList><endBus>0</endBus><lowPlate>0</lowPlate><plateNo>경기79바6264</plateNo><plateType>3</plateType><remainSeatCnt>25</remainSeatCnt><routeId>232000061</routeId><stationId>232000356</stationId><stationSeq>31</stationSeq></busLocationList><busLocationList><endBus>0</endBus><lowPlate>0</lowPlate><plateNo>경기79바1587</plateNo><plateType>3</plateType><remainSeatCnt>34</remainSeatCnt><routeId>232000061</routeId><stationId>232000394</stationId><stationSeq>88</stationSeq></busLocationList><busLocationList><endBus>0</endBus><lowPlate>0</lowPlate><plateNo>경기79바1582</plateNo><plateType>3</plateType><remainSeatCnt>0</remainSeatCnt><routeId>232000061</routeId><stationId>232000732</stationId><stationSeq>75</stationSeq></busLocationList><busLocationList><endBus>0</endBus><lowPlate>0</lowPlate><plateNo>경기79바6148</plateNo><plateType>3</plateType><remainSeatCnt>28</remainSeatCnt><routeId>232000061</routeId><stationId>113000412</stationId><stationSeq>54</stationSeq></busLocationList><busLocationList><endBus>0</endBus><lowPlate>0</lowPlate><plateNo>경기79바1589</plateNo><plateType>3</plateType><remainSeatCnt>27</remainSeatCnt><routeId>232000061</routeId><stationId>232001021</stationId><stationSeq>23</stationSeq></busLocationList><busLocationList><endBus>0</endBus><lowPlate>0</lowPlate><plateNo>경기79바1591</plateNo><plateType>3</plateType><remainSeatCnt>41</remainSeatCnt><routeId>232000061</routeId><stationId>113000415</stationId><stationSeq>50</stationSeq></busLocationList><busLocationList><endBus>0</endBus><lowPlate>0</lowPlate><plateNo>경기79바1585</plateNo><plateType>3</plateType><remainSeatCnt>31</remainSeatCnt><routeId>232000061</routeId><stationId>232000407</stationId><stationSeq>81</stationSeq></busLocationList><busLocationList><endBus>0</endBus><lowPlate>0</lowPlate><plateNo>경기79바1596</plateNo><plateType>3</plateType><remainSeatCnt>34</remainSeatCnt><routeId>232000061</routeId><stationId>232000640</stationId><stationSeq>87</stationSeq></busLocationList><busLocationList><endBus>0</endBus><lowPlate>0</lowPlate><plateNo>경기79바6259</plateNo><plateType>3</plateType><remainSeatCnt>31</remainSeatCnt><routeId>232000061</routeId><stationId>115000073</stationId><stationSeq>33</stationSeq></busLocationList><busLocationList><endBus>0</endBus><lowPlate>0</lowPlate><plateNo>경기79바1543</plateNo><plateType>3</plateType><remainSeatCnt>26</remainSeatCnt><routeId>232000061</routeId><stationId>232000096</stationId><stationSeq>10</stationSeq></busLocationList><busLocationList><endBus>0</endBus><lowPlate>0</lowPlate><plateNo>경기79바1579</plateNo><plateType>3</plateType><remainSeatCnt>31</remainSeatCnt><routeId>232000061</routeId><stationId>115000002</stationId><stationSeq>39</stationSeq></busLocationList><busLocationList><endBus>0</endBus><lowPlate>0</lowPlate><plateNo>경기79바1505</plateNo><plateType>3</plateType><remainSeatCnt>30</remainSeatCnt><routeId>232000061</routeId><stationId>277102197</stationId><stationSeq>42</stationSeq></busLocationList><busLocationList><endBus>0</endBus><lowPlate>0</lowPlate><plateNo>경기79바1581</plateNo><plateType>3</plateType><remainSeatCnt>30</remainSeatCnt><routeId>232000061</routeId><stationId>115000594</stationId><stationSeq>58</stationSeq></busLocationList><busLocationList><endBus>0</endBus><lowPlate>0</lowPlate><plateNo>경기79바1588</plateNo><plateType>3</plateType><remainSeatCnt>5</remainSeatCnt><routeId>232000061</routeId><stationId>115000633</stationId><stationSeq>61</stationSeq></busLocationList><busLocationList><endBus>0</endBus><lowPlate>0</lowPlate><plateNo>경기79바6149</plateNo><plateType>3</plateType><remainSeatCnt>38</remainSeatCnt><routeId>232000061</routeId><stationId>232000393</stationId><stationSeq>6</stationSeq></busLocationList></msgBody></response>\n"
          ]
        }
      ]
    },
    {
      "cell_type": "code",
      "source": [
        "from bs4 import BeautifulSoup\n",
        "\n",
        "soup = BeautifulSoup(r.text, features=\"xml\")"
      ],
      "metadata": {
        "id": "YCos1sNAs1qW"
      },
      "execution_count": 11,
      "outputs": []
    },
    {
      "cell_type": "code",
      "source": [
        "soup.find_all('stationId')"
      ],
      "metadata": {
        "colab": {
          "base_uri": "https://localhost:8080/"
        },
        "id": "_dAtDXv-s6D-",
        "outputId": "c1679c67-3868-4c3f-973a-6838418aa2dd"
      },
      "execution_count": 12,
      "outputs": [
        {
          "output_type": "execute_result",
          "data": {
            "text/plain": [
              "[<stationId>113000419</stationId>,\n",
              " <stationId>232000429</stationId>,\n",
              " <stationId>232000379</stationId>,\n",
              " <stationId>115000589</stationId>,\n",
              " <stationId>232000359</stationId>,\n",
              " <stationId>232000356</stationId>,\n",
              " <stationId>232000394</stationId>,\n",
              " <stationId>232000732</stationId>,\n",
              " <stationId>113000412</stationId>,\n",
              " <stationId>232001021</stationId>,\n",
              " <stationId>113000415</stationId>,\n",
              " <stationId>232000407</stationId>,\n",
              " <stationId>232000640</stationId>,\n",
              " <stationId>115000073</stationId>,\n",
              " <stationId>232000096</stationId>,\n",
              " <stationId>115000002</stationId>,\n",
              " <stationId>277102197</stationId>,\n",
              " <stationId>115000594</stationId>,\n",
              " <stationId>115000633</stationId>,\n",
              " <stationId>232000393</stationId>]"
            ]
          },
          "metadata": {},
          "execution_count": 12
        }
      ]
    }
  ]
}