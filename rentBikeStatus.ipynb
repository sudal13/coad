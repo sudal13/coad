{
  "nbformat": 4,
  "nbformat_minor": 0,
  "metadata": {
    "colab": {
      "provenance": [],
      "authorship_tag": "ABX9TyM7OEgBPU68cPirLGoFgzfe",
      "include_colab_link": true
    },
    "kernelspec": {
      "name": "python3",
      "display_name": "Python 3"
    },
    "language_info": {
      "name": "python"
    }
  },
  "cells": [
    {
      "cell_type": "markdown",
      "metadata": {
        "id": "view-in-github",
        "colab_type": "text"
      },
      "source": [
        "<a href=\"https://colab.research.google.com/github/sudal13/coad/blob/main/rentBikeStatus.ipynb\" target=\"_parent\"><img src=\"https://colab.research.google.com/assets/colab-badge.svg\" alt=\"Open In Colab\"/></a>"
      ]
    },
    {
      "cell_type": "code",
      "execution_count": 1,
      "metadata": {
        "colab": {
          "base_uri": "https://localhost:8080/"
        },
        "id": "HOlZkm_KtBxr",
        "outputId": "f858caf9-8187-4b3a-de6f-4ac6b83df5b7"
      },
      "outputs": [
        {
          "output_type": "stream",
          "name": "stdout",
          "text": [
            "{'rentBikeStatus': {'list_total_count': 5, 'RESULT': {'CODE': 'INFO-000', 'MESSAGE': '정상 처리되었습니다.'}, 'row': [{'rackTotCnt': '15', 'stationName': '102. 망원역 1번출구 앞', 'parkingBikeTotCnt': '10', 'shared': '67', 'stationLatitude': '37.55564880', 'stationLongitude': '126.91062927', 'stationId': 'ST-4'}, {'rackTotCnt': '14', 'stationName': '103. 망원역 2번출구 앞', 'parkingBikeTotCnt': '13', 'shared': '93', 'stationLatitude': '37.55495071', 'stationLongitude': '126.91083527', 'stationId': 'ST-5'}, {'rackTotCnt': '13', 'stationName': '104. 합정역 1번출구 앞', 'parkingBikeTotCnt': '3', 'shared': '23', 'stationLatitude': '37.55073929', 'stationLongitude': '126.91508484', 'stationId': 'ST-6'}, {'rackTotCnt': '5', 'stationName': '105. 합정역 5번출구 앞', 'parkingBikeTotCnt': '11', 'shared': '220', 'stationLatitude': '37.55000687', 'stationLongitude': '126.91482544', 'stationId': 'ST-7'}, {'rackTotCnt': '12', 'stationName': '106. 합정역 7번출구 앞', 'parkingBikeTotCnt': '33', 'shared': '275', 'stationLatitude': '37.54864502', 'stationLongitude': '126.91282654', 'stationId': 'ST-8'}]}}\n"
          ]
        }
      ],
      "source": [
        "import requests\n",
        "r = requests.get('http://openapi.seoul.go.kr:8088/sample/json/bikeList/1/5/')\n",
        "print(r.json())\n",
        "j=r.json()"
      ]
    },
    {
      "cell_type": "code",
      "source": [
        "for x in j['rentBikeStatus']['row']:\n",
        "  print('대여건수', ':', x['stationName'], x['shared'])"
      ],
      "metadata": {
        "colab": {
          "base_uri": "https://localhost:8080/"
        },
        "id": "0r5B50BXtohN",
        "outputId": "24756e3d-808d-4f92-eade-d1067f342b8e"
      },
      "execution_count": 4,
      "outputs": [
        {
          "output_type": "stream",
          "name": "stdout",
          "text": [
            "대여건수 : 102. 망원역 1번출구 앞 67\n",
            "대여건수 : 103. 망원역 2번출구 앞 93\n",
            "대여건수 : 104. 합정역 1번출구 앞 23\n",
            "대여건수 : 105. 합정역 5번출구 앞 220\n",
            "대여건수 : 106. 합정역 7번출구 앞 275\n"
          ]
        }
      ]
    }
  ]
}