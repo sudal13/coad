{
  "nbformat": 4,
  "nbformat_minor": 0,
  "metadata": {
    "colab": {
      "provenance": [],
      "authorship_tag": "ABX9TyOTtmpnOqsi7p7kwVT4oE30",
      "include_colab_link": true
    },
    "kernelspec": {
      "name": "python3",
      "display_name": "Python 3"
    },
    "language_info": {
      "name": "python"
    }
  },
  "cells": [
    {
      "cell_type": "markdown",
      "metadata": {
        "id": "view-in-github",
        "colab_type": "text"
      },
      "source": [
        "<a href=\"https://colab.research.google.com/github/sudal13/coad/blob/main/gnDsdtFrgltyArea.ipynb\" target=\"_parent\"><img src=\"https://colab.research.google.com/assets/colab-badge.svg\" alt=\"Open In Colab\"/></a>"
      ]
    },
    {
      "cell_type": "code",
      "execution_count": 21,
      "metadata": {
        "colab": {
          "base_uri": "https://localhost:8080/"
        },
        "id": "8oZVr6sAJ1Ih",
        "outputId": "241678dd-e725-4d0a-ff74-c5bbef1d0a70"
      },
      "outputs": [
        {
          "output_type": "stream",
          "name": "stdout",
          "text": [
            "b'<?xml version=\"1.0\" encoding=\"UTF-8\"?><response>\\n  <header>\\n    <resultCode>00</resultCode>\\n    <resultMsg>NORMAL_CODE</resultMsg>\\n  </header>\\n  <body>\\n    <items>\\n      <item>\\n        <yy>2017</yy>\\n        <mxmm_ws_wd>290</mxmm_ws_wd>\\n        <mxmm_mont_ws_occrrnc_de>20170717</mxmm_mont_ws_occrrnc_de>\\n        <mt_prcpt_sm>113.6</mt_prcpt_sm>\\n        <dstd_se>\\xed\\x98\\xb8\\xec\\x9a\\xb0</dstd_se>\\n        <inj_popltn>0</inj_popltn>\\n        <mss_popltn>0</mss_popltn>\\n        <on_mxmm_prcpt>21</on_mxmm_prcpt>\\n        <death_popltn>0</death_popltn>\\n        <mxmm_ws>6</mxmm_ws>\\n        <dmge_scale>4894</dmge_scale>\\n        <month>6</month>\\n        <skey>1</skey>\\n        <mxmm_mont_ws>9.9</mxmm_mont_ws>\\n        <on_mxmm_prcpt_occrrnc_de>20170706</on_mxmm_prcpt_occrrnc_de>\\n        <signgu>\\xed\\x95\\xa9\\xec\\xb2\\x9c\\xea\\xb5\\xb0</signgu>\\n        <prprty_dmge_se>\\xec\\x82\\xac\\xec\\x9c\\xa1\\xec\\x8b\\x9c\\xec\\x84\\xa4</prprty_dmge_se>\\n        <avrg_ws>1.2</avrg_ws>\\n        <mxmm_ws_occrrnc_de>20170717</mxmm_ws_occrrnc_de>\\n        <mxmm_mont_ws_wd>320</mxmm_mont_ws_wd>\\n      </item>\\n      <item>\\n        <yy>2017</yy>\\n        <mxmm_ws_wd>320</mxmm_ws_wd>\\n        <mxmm_mont_ws_occrrnc_de>20170716</mxmm_mont_ws_occrrnc_de>\\n        <mt_prcpt_sm>235</mt_prcpt_sm>\\n        <dstd_se>\\xed\\x98\\xb8\\xec\\x9a\\xb0</dstd_se>\\n        <inj_popltn>0</inj_popltn>\\n        <mss_popltn>0</mss_popltn>\\n        <on_mxmm_prcpt>146.5</on_mxmm_prcpt>\\n        <death_popltn>0</death_popltn>\\n        <mxmm_ws>6</mxmm_ws>\\n        <dmge_scale>600</dmge_scale>\\n        <month>7</month>\\n        <skey>2</skey>\\n        <mxmm_mont_ws>11.4</mxmm_mont_ws>\\n        <on_mxmm_prcpt_occrrnc_de>20170704</on_mxmm_prcpt_occrrnc_de>\\n        <signgu>\\xea\\xb1\\xb0\\xec\\xa0\\x9c\\xec\\x8b\\x9c</signgu>\\n        <prprty_dmge_se>\\xea\\xb1\\xb4\\xeb\\xac\\xbc</prprty_dmge_se>\\n        <avrg_ws>2</avrg_ws>\\n        <mxmm_ws_occrrnc_de>20170711</mxmm_ws_occrrnc_de>\\n        <mxmm_mont_ws_wd>290</mxmm_mont_ws_wd>\\n      </item>\\n      <item>\\n        <yy>2017</yy>\\n        <mxmm_ws_wd>250</mxmm_ws_wd>\\n        <mxmm_mont_ws_occrrnc_de>20170824</mxmm_mont_ws_occrrnc_de>\\n        <mt_prcpt_sm>131.8</mt_prcpt_sm>\\n        <dstd_se>\\xed\\x98\\xb8\\xec\\x9a\\xb0</dstd_se>\\n        <inj_popltn>0</inj_popltn>\\n        <mss_popltn>0</mss_popltn>\\n        <on_mxmm_prcpt>48</on_mxmm_prcpt>\\n        <death_popltn>0</death_popltn>\\n        <mxmm_ws>6.3</mxmm_ws>\\n        <dmge_scale>30000</dmge_scale>\\n        <month>8</month>\\n        <skey>3</skey>\\n        <mxmm_mont_ws>10.7</mxmm_mont_ws>\\n        <on_mxmm_prcpt_occrrnc_de>20170814</on_mxmm_prcpt_occrrnc_de>\\n        <signgu>\\xed\\x95\\xa8\\xec\\x96\\x91\\xea\\xb5\\xb0</signgu>\\n        <prprty_dmge_se>\\xea\\xb1\\xb4\\xeb\\xac\\xbc</prprty_dmge_se>\\n        <avrg_ws>0.8</avrg_ws>\\n        <mxmm_ws_occrrnc_de>20170824</mxmm_ws_occrrnc_de>\\n        <mxmm_mont_ws_wd>250</mxmm_mont_ws_wd>\\n      </item>\\n      <item>\\n        <yy>2017</yy>\\n        <mxmm_ws_wd>200</mxmm_ws_wd>\\n        <mxmm_mont_ws_occrrnc_de>20170911</mxmm_mont_ws_occrrnc_de>\\n        <mt_prcpt_sm>362.2</mt_prcpt_sm>\\n        <dstd_se>\\xed\\x98\\xb8\\xec\\x9a\\xb0</dstd_se>\\n        <inj_popltn>0</inj_popltn>\\n        <mss_popltn>0</mss_popltn>\\n        <on_mxmm_prcpt>273.2</on_mxmm_prcpt>\\n        <death_popltn>0</death_popltn>\\n        <mxmm_ws>10.1</mxmm_ws>\\n        <dmge_scale>15000</dmge_scale>\\n        <month>9</month>\\n        <skey>4</skey>\\n        <mxmm_mont_ws>17</mxmm_mont_ws>\\n        <on_mxmm_prcpt_occrrnc_de>20170911</on_mxmm_prcpt_occrrnc_de>\\n        <signgu>\\xed\\x86\\xb5\\xec\\x98\\x81\\xec\\x8b\\x9c</signgu>\\n        <prprty_dmge_se>\\xea\\xb1\\xb4\\xeb\\xac\\xbc</prprty_dmge_se>\\n        <avrg_ws>2.2</avrg_ws>\\n        <mxmm_ws_occrrnc_de>20170911</mxmm_ws_occrrnc_de>\\n        <mxmm_mont_ws_wd>200</mxmm_mont_ws_wd>\\n      </item>\\n      <item>\\n        <yy>2017</yy>\\n        <mxmm_ws_wd>200</mxmm_ws_wd>\\n        <mxmm_mont_ws_occrrnc_de>20170911</mxmm_mont_ws_occrrnc_de>\\n        <mt_prcpt_sm>362.2</mt_prcpt_sm>\\n        <dstd_se>\\xed\\x98\\xb8\\xec\\x9a\\xb0</dstd_se>\\n        <inj_popltn>0</inj_popltn>\\n        <mss_popltn>0</mss_popltn>\\n        <on_mxmm_prcpt>273.2</on_mxmm_prcpt>\\n        <death_popltn>0</death_popltn>\\n        <mxmm_ws>10.1</mxmm_ws>\\n        <dmge_scale>782</dmge_scale>\\n        <month>9</month>\\n        <skey>5</skey>\\n        <mxmm_mont_ws>17</mxmm_mont_ws>\\n        <on_mxmm_prcpt_occrrnc_de>20170911</on_mxmm_prcpt_occrrnc_de>\\n        <signgu>\\xed\\x86\\xb5\\xec\\x98\\x81\\xec\\x8b\\x9c</signgu>\\n        <prprty_dmge_se>\\xeb\\x86\\x8d\\xea\\xb2\\xbd\\xec\\xa7\\x80</prprty_dmge_se>\\n        <avrg_ws>2.2</avrg_ws>\\n        <mxmm_ws_occrrnc_de>20170911</mxmm_ws_occrrnc_de>\\n        <mxmm_mont_ws_wd>200</mxmm_mont_ws_wd>\\n      </item>\\n      <item>\\n        <yy>2017</yy>\\n        <mxmm_ws_wd>200</mxmm_ws_wd>\\n        <mxmm_mont_ws_occrrnc_de>20170911</mxmm_mont_ws_occrrnc_de>\\n        <mt_prcpt_sm>362.2</mt_prcpt_sm>\\n        <dstd_se>\\xed\\x98\\xb8\\xec\\x9a\\xb0</dstd_se>\\n        <inj_popltn>0</inj_popltn>\\n        <mss_popltn>0</mss_popltn>\\n        <on_mxmm_prcpt>273.2</on_mxmm_prcpt>\\n        <death_popltn>0</death_popltn>\\n        <mxmm_ws>10.1</mxmm_ws>\\n        <dmge_scale>430055</dmge_scale>\\n        <month>9</month>\\n        <skey>6</skey>\\n        <mxmm_mont_ws>17</mxmm_mont_ws>\\n        <on_mxmm_prcpt_occrrnc_de>20170911</on_mxmm_prcpt_occrrnc_de>\\n        <signgu>\\xed\\x86\\xb5\\xec\\x98\\x81\\xec\\x8b\\x9c</signgu>\\n        <prprty_dmge_se>\\xea\\xb3\\xb5\\xea\\xb3\\xb5\\xec\\x8b\\x9c\\xec\\x84\\xa4</prprty_dmge_se>\\n        <avrg_ws>2.2</avrg_ws>\\n        <mxmm_ws_occrrnc_de>20170911</mxmm_ws_occrrnc_de>\\n        <mxmm_mont_ws_wd>200</mxmm_mont_ws_wd>\\n      </item>\\n      <item>\\n        <yy>2017</yy>\\n        <mxmm_ws_wd>200</mxmm_ws_wd>\\n        <mxmm_mont_ws_occrrnc_de>20170911</mxmm_mont_ws_occrrnc_de>\\n        <mt_prcpt_sm>362.2</mt_prcpt_sm>\\n        <dstd_se>\\xed\\x98\\xb8\\xec\\x9a\\xb0</dstd_se>\\n        <inj_popltn>0</inj_popltn>\\n        <mss_popltn>0</mss_popltn>\\n        <on_mxmm_prcpt>273.2</on_mxmm_prcpt>\\n        <death_popltn>0</death_popltn>\\n        <mxmm_ws>10.1</mxmm_ws>\\n        <dmge_scale>32200</dmge_scale>\\n        <month>9</month>\\n        <skey>7</skey>\\n        <mxmm_mont_ws>17</mxmm_mont_ws>\\n        <on_mxmm_prcpt_occrrnc_de>20170911</on_mxmm_prcpt_occrrnc_de>\\n        <signgu>\\xed\\x86\\xb5\\xec\\x98\\x81\\xec\\x8b\\x9c</signgu>\\n        <prprty_dmge_se>\\xec\\x82\\xac\\xec\\x9c\\xa1\\xec\\x8b\\x9c\\xec\\x84\\xa4</prprty_dmge_se>\\n        <avrg_ws>2.2</avrg_ws>\\n        <mxmm_ws_occrrnc_de>20170911</mxmm_ws_occrrnc_de>\\n        <mxmm_mont_ws_wd>200</mxmm_mont_ws_wd>\\n      </item>\\n      <item>\\n        <yy>2017</yy>\\n        <mxmm_ws_wd>320</mxmm_ws_wd>\\n        <mxmm_mont_ws_occrrnc_de>20170920</mxmm_mont_ws_occrrnc_de>\\n        <mt_prcpt_sm>185.9</mt_prcpt_sm>\\n        <dstd_se>\\xed\\x98\\xb8\\xec\\x9a\\xb0</dstd_se>\\n        <inj_popltn>0</inj_popltn>\\n        <mss_popltn>0</mss_popltn>\\n        <on_mxmm_prcpt>142.3</on_mxmm_prcpt>\\n        <death_popltn>0</death_popltn>\\n        <mxmm_ws>6.1</mxmm_ws>\\n        <dmge_scale>5400</dmge_scale>\\n        <month>9</month>\\n        <skey>8</skey>\\n        <mxmm_mont_ws>10</mxmm_mont_ws>\\n        <on_mxmm_prcpt_occrrnc_de>20170911</on_mxmm_prcpt_occrrnc_de>\\n        <signgu>\\xea\\xb9\\x80\\xed\\x95\\xb4\\xec\\x8b\\x9c</signgu>\\n        <prprty_dmge_se>\\xea\\xb1\\xb4\\xeb\\xac\\xbc</prprty_dmge_se>\\n        <avrg_ws>1.7</avrg_ws>\\n        <mxmm_ws_occrrnc_de>20170920</mxmm_ws_occrrnc_de>\\n        <mxmm_mont_ws_wd>290</mxmm_mont_ws_wd>\\n      </item>\\n      <item>\\n        <yy>2017</yy>\\n        <mxmm_ws_wd>320</mxmm_ws_wd>\\n        <mxmm_mont_ws_occrrnc_de>20170920</mxmm_mont_ws_occrrnc_de>\\n        <mt_prcpt_sm>185.9</mt_prcpt_sm>\\n        <dstd_se>\\xed\\x98\\xb8\\xec\\x9a\\xb0</dstd_se>\\n        <inj_popltn>0</inj_popltn>\\n        <mss_popltn>0</mss_popltn>\\n        <on_mxmm_prcpt>142.3</on_mxmm_prcpt>\\n        <death_popltn>0</death_popltn>\\n        <mxmm_ws>6.1</mxmm_ws>\\n        <dmge_scale>7459</dmge_scale>\\n        <month>9</month>\\n        <skey>9</skey>\\n        <mxmm_mont_ws>10</mxmm_mont_ws>\\n        <on_mxmm_prcpt_occrrnc_de>20170911</on_mxmm_prcpt_occrrnc_de>\\n        <signgu>\\xea\\xb9\\x80\\xed\\x95\\xb4\\xec\\x8b\\x9c</signgu>\\n        <prprty_dmge_se>\\xeb\\x86\\x8d\\xea\\xb2\\xbd\\xec\\xa7\\x80</prprty_dmge_se>\\n        <avrg_ws>1.7</avrg_ws>\\n        <mxmm_ws_occrrnc_de>20170920</mxmm_ws_occrrnc_de>\\n        <mxmm_mont_ws_wd>290</mxmm_mont_ws_wd>\\n      </item>\\n      <item>\\n        <yy>2017</yy>\\n        <mxmm_ws_wd>320</mxmm_ws_wd>\\n        <mxmm_mont_ws_occrrnc_de>20170911</mxmm_mont_ws_occrrnc_de>\\n        <mt_prcpt_sm>410.5</mt_prcpt_sm>\\n        <dstd_se>\\xed\\x98\\xb8\\xec\\x9a\\xb0</dstd_se>\\n        <inj_popltn>0</inj_popltn>\\n        <mss_popltn>0</mss_popltn>\\n        <on_mxmm_prcpt>308</on_mxmm_prcpt>\\n        <death_popltn>0</death_popltn>\\n        <mxmm_ws>7.5</mxmm_ws>\\n        <dmge_scale>119400</dmge_scale>\\n        <month>9</month>\\n        <skey>10</skey>\\n        <mxmm_mont_ws>14.2</mxmm_mont_ws>\\n        <on_mxmm_prcpt_occrrnc_de>20170911</on_mxmm_prcpt_occrrnc_de>\\n        <signgu>\\xea\\xb1\\xb0\\xec\\xa0\\x9c\\xec\\x8b\\x9c</signgu>\\n        <prprty_dmge_se>\\xea\\xb1\\xb4\\xeb\\xac\\xbc</prprty_dmge_se>\\n        <avrg_ws>1.5</avrg_ws>\\n        <mxmm_ws_occrrnc_de>20170911</mxmm_ws_occrrnc_de>\\n        <mxmm_mont_ws_wd>320</mxmm_mont_ws_wd>\\n      </item>\\n      <item>\\n        <yy>2017</yy>\\n        <mxmm_ws_wd>320</mxmm_ws_wd>\\n        <mxmm_mont_ws_occrrnc_de>20170911</mxmm_mont_ws_occrrnc_de>\\n        <mt_prcpt_sm>410.5</mt_prcpt_sm>\\n        <dstd_se>\\xed\\x98\\xb8\\xec\\x9a\\xb0</dstd_se>\\n        <inj_popltn>0</inj_popltn>\\n        <mss_popltn>0</mss_popltn>\\n        <on_mxmm_prcpt>308</on_mxmm_prcpt>\\n        <death_popltn>0</death_popltn>\\n        <mxmm_ws>7.5</mxmm_ws>\\n        <dmge_scale>31228</dmge_scale>\\n        <month>9</month>\\n        <skey>11</skey>\\n        <mxmm_mont_ws>14.2</mxmm_mont_ws>\\n        <on_mxmm_prcpt_occrrnc_de>20170911</on_mxmm_prcpt_occrrnc_de>\\n        <signgu>\\xea\\xb1\\xb0\\xec\\xa0\\x9c\\xec\\x8b\\x9c</signgu>\\n        <prprty_dmge_se>\\xec\\x84\\xa0\\xeb\\xb0\\x95</prprty_dmge_se>\\n        <avrg_ws>1.5</avrg_ws>\\n        <mxmm_ws_occrrnc_de>20170911</mxmm_ws_occrrnc_de>\\n        <mxmm_mont_ws_wd>320</mxmm_mont_ws_wd>\\n      </item>\\n      <item>\\n        <yy>2017</yy>\\n        <mxmm_ws_wd>320</mxmm_ws_wd>\\n        <mxmm_mont_ws_occrrnc_de>20170911</mxmm_mont_ws_occrrnc_de>\\n        <mt_prcpt_sm>410.5</mt_prcpt_sm>\\n        <dstd_se>\\xed\\x98\\xb8\\xec\\x9a\\xb0</dstd_se>\\n        <inj_popltn>0</inj_popltn>\\n        <mss_popltn>0</mss_popltn>\\n        <on_mxmm_prcpt>308</on_mxmm_prcpt>\\n        <death_popltn>0</death_popltn>\\n        <mxmm_ws>7.5</mxmm_ws>\\n        <dmge_scale>20617</dmge_scale>\\n        <month>9</month>\\n        <skey>12</skey>\\n        <mxmm_mont_ws>14.2</mxmm_mont_ws>\\n        <on_mxmm_prcpt_occrrnc_de>20170911</on_mxmm_prcpt_occrrnc_de>\\n        <signgu>\\xea\\xb1\\xb0\\xec\\xa0\\x9c\\xec\\x8b\\x9c</signgu>\\n        <prprty_dmge_se>\\xeb\\x86\\x8d\\xea\\xb2\\xbd\\xec\\xa7\\x80</prprty_dmge_se>\\n        <avrg_ws>1.5</avrg_ws>\\n        <mxmm_ws_occrrnc_de>20170911</mxmm_ws_occrrnc_de>\\n        <mxmm_mont_ws_wd>320</mxmm_mont_ws_wd>\\n      </item>\\n      <item>\\n        <yy>2017</yy>\\n        <mxmm_ws_wd>320</mxmm_ws_wd>\\n        <mxmm_mont_ws_occrrnc_de>20170911</mxmm_mont_ws_occrrnc_de>\\n        <mt_prcpt_sm>410.5</mt_prcpt_sm>\\n        <dstd_se>\\xed\\x98\\xb8\\xec\\x9a\\xb0</dstd_se>\\n        <inj_popltn>0</inj_popltn>\\n        <mss_popltn>0</mss_popltn>\\n        <on_mxmm_prcpt>308</on_mxmm_prcpt>\\n        <death_popltn>0</death_popltn>\\n        <mxmm_ws>7.5</mxmm_ws>\\n        <dmge_scale>2492677</dmge_scale>\\n        <month>9</month>\\n        <skey>13</skey>\\n        <mxmm_mont_ws>14.2</mxmm_mont_ws>\\n        <on_mxmm_prcpt_occrrnc_de>20170911</on_mxmm_prcpt_occrrnc_de>\\n        <signgu>\\xea\\xb1\\xb0\\xec\\xa0\\x9c\\xec\\x8b\\x9c</signgu>\\n        <prprty_dmge_se>\\xea\\xb3\\xb5\\xea\\xb3\\xb5\\xec\\x8b\\x9c\\xec\\x84\\xa4</prprty_dmge_se>\\n        <avrg_ws>1.5</avrg_ws>\\n        <mxmm_ws_occrrnc_de>20170911</mxmm_ws_occrrnc_de>\\n        <mxmm_mont_ws_wd>320</mxmm_mont_ws_wd>\\n      </item>\\n      <item>\\n        <yy>2017</yy>\\n        <mxmm_ws_wd>320</mxmm_ws_wd>\\n        <mxmm_mont_ws_occrrnc_de>20170911</mxmm_mont_ws_occrrnc_de>\\n        <mt_prcpt_sm>410.5</mt_prcpt_sm>\\n        <dstd_se>\\xed\\x98\\xb8\\xec\\x9a\\xb0</dstd_se>\\n        <inj_popltn>0</inj_popltn>\\n        <mss_popltn>0</mss_popltn>\\n        <on_mxmm_prcpt>308</on_mxmm_prcpt>\\n        <death_popltn>0</death_popltn>\\n        <mxmm_ws>7.5</mxmm_ws>\\n        <dmge_scale>272446</dmge_scale>\\n        <month>9</month>\\n        <skey>14</skey>\\n        <mxmm_mont_ws>14.2</mxmm_mont_ws>\\n        <on_mxmm_prcpt_occrrnc_de>20170911</on_mxmm_prcpt_occrrnc_de>\\n        <signgu>\\xea\\xb1\\xb0\\xec\\xa0\\x9c\\xec\\x8b\\x9c</signgu>\\n        <prprty_dmge_se>\\xec\\x82\\xac\\xec\\x9c\\xa1\\xec\\x8b\\x9c\\xec\\x84\\xa4</prprty_dmge_se>\\n        <avrg_ws>1.5</avrg_ws>\\n        <mxmm_ws_occrrnc_de>20170911</mxmm_ws_occrrnc_de>\\n        <mxmm_mont_ws_wd>320</mxmm_mont_ws_wd>\\n      </item>\\n      <item>\\n        <yy>2017</yy>\\n        <mxmm_ws_wd>110</mxmm_ws_wd>\\n        <mxmm_mont_ws_occrrnc_de>20170916</mxmm_mont_ws_occrrnc_de>\\n        <mt_prcpt_sm>178.1</mt_prcpt_sm>\\n        <dstd_se>\\xed\\x98\\xb8\\xec\\x9a\\xb0</dstd_se>\\n        <inj_popltn>0</inj_popltn>\\n        <mss_popltn>0</mss_popltn>\\n        <on_mxmm_prcpt>121.5</on_mxmm_prcpt>\\n        <death_popltn>0</death_popltn>\\n        <mxmm_ws>8</mxmm_ws>\\n        <dmge_scale>1800</dmge_scale>\\n        <month>9</month>\\n        <skey>15</skey>\\n        <mxmm_mont_ws>16.6</mxmm_mont_ws>\\n        <on_mxmm_prcpt_occrrnc_de>20170911</on_mxmm_prcpt_occrrnc_de>\\n        <signgu>\\xec\\x96\\x91\\xec\\x82\\xb0\\xec\\x8b\\x9c</signgu>\\n        <prprty_dmge_se>\\xea\\xb1\\xb4\\xeb\\xac\\xbc</prprty_dmge_se>\\n        <avrg_ws>2.2</avrg_ws>\\n        <mxmm_ws_occrrnc_de>20170915</mxmm_ws_occrrnc_de>\\n        <mxmm_mont_ws_wd>70</mxmm_mont_ws_wd>\\n      </item>\\n      <item>\\n        <yy>2017</yy>\\n        <mxmm_ws_wd>140</mxmm_ws_wd>\\n        <mxmm_mont_ws_occrrnc_de>20171022</mxmm_mont_ws_occrrnc_de>\\n        <mt_prcpt_sm>120.3</mt_prcpt_sm>\\n        <dstd_se>\\xed\\x92\\x8d\\xeb\\x9e\\x91,\\xea\\xb0\\x95\\xed\\x92\\x8d</dstd_se>\\n        <inj_popltn>0</inj_popltn>\\n        <mss_popltn>0</mss_popltn>\\n        <on_mxmm_prcpt>70</on_mxmm_prcpt>\\n        <death_popltn>0</death_popltn>\\n        <mxmm_ws>6</mxmm_ws>\\n        <dmge_scale>9790</dmge_scale>\\n        <month>10</month>\\n        <skey>16</skey>\\n        <mxmm_mont_ws>11.3</mxmm_mont_ws>\\n        <on_mxmm_prcpt_occrrnc_de>20171002</on_mxmm_prcpt_occrrnc_de>\\n        <signgu>\\xea\\xb1\\xb0\\xec\\xa0\\x9c\\xec\\x8b\\x9c</signgu>\\n        <prprty_dmge_se>\\xec\\x84\\xa0\\xeb\\xb0\\x95</prprty_dmge_se>\\n        <avrg_ws>1.5</avrg_ws>\\n        <mxmm_ws_occrrnc_de>20171001</mxmm_ws_occrrnc_de>\\n        <mxmm_mont_ws_wd>90</mxmm_mont_ws_wd>\\n      </item>\\n      <item>\\n        <yy>2017</yy>\\n        <mxmm_ws_wd>250</mxmm_ws_wd>\\n        <mxmm_mont_ws_occrrnc_de>20171111</mxmm_mont_ws_occrrnc_de>\\n        <mt_prcpt_sm>0</mt_prcpt_sm>\\n        <dstd_se>\\xec\\xa7\\x80\\xec\\xa7\\x84</dstd_se>\\n        <inj_popltn>0</inj_popltn>\\n        <mss_popltn>0</mss_popltn>\\n        <on_mxmm_prcpt>0</on_mxmm_prcpt>\\n        <death_popltn>0</death_popltn>\\n        <mxmm_ws>6.9</mxmm_ws>\\n        <dmge_scale>600</dmge_scale>\\n        <month>11</month>\\n        <skey>17</skey>\\n        <mxmm_mont_ws>15.4</mxmm_mont_ws>\\n        <on_mxmm_prcpt_occrrnc_de>0</on_mxmm_prcpt_occrrnc_de>\\n        <signgu>\\xec\\x96\\x91\\xec\\x82\\xb0\\xec\\x8b\\x9c</signgu>\\n        <prprty_dmge_se>\\xea\\xb1\\xb4\\xeb\\xac\\xbc</prprty_dmge_se>\\n        <avrg_ws>1.9</avrg_ws>\\n        <mxmm_ws_occrrnc_de>20171110</mxmm_ws_occrrnc_de>\\n        <mxmm_mont_ws_wd>320</mxmm_mont_ws_wd>\\n      </item>\\n      <item>\\n        <yy>2018</yy>\\n        <mxmm_ws_wd>160</mxmm_ws_wd>\\n        <mxmm_mont_ws_occrrnc_de>20180824</mxmm_mont_ws_occrrnc_de>\\n        <mt_prcpt_sm>372.3</mt_prcpt_sm>\\n        <dstd_se>\\xed\\x98\\xb8\\xec\\x9a\\xb0</dstd_se>\\n        <inj_popltn>0</inj_popltn>\\n        <mss_popltn>0</mss_popltn>\\n        <on_mxmm_prcpt>197</on_mxmm_prcpt>\\n        <death_popltn>0</death_popltn>\\n        <mxmm_ws>6.1</mxmm_ws>\\n        <dmge_scale>133</dmge_scale>\\n        <month>8</month>\\n        <skey>18</skey>\\n        <mxmm_mont_ws>11.8</mxmm_mont_ws>\\n        <on_mxmm_prcpt_occrrnc_de>20180826</on_mxmm_prcpt_occrrnc_de>\\n        <signgu>\\xeb\\xb0\\x80\\xec\\x96\\x91\\xec\\x8b\\x9c</signgu>\\n        <prprty_dmge_se>\\xeb\\x86\\x8d\\xea\\xb2\\xbd\\xec\\xa7\\x80</prprty_dmge_se>\\n        <avrg_ws>1.1</avrg_ws>\\n        <mxmm_ws_occrrnc_de>20180824</mxmm_ws_occrrnc_de>\\n        <mxmm_mont_ws_wd>140</mxmm_mont_ws_wd>\\n      </item>\\n      <item>\\n        <yy>2018</yy>\\n        <mxmm_ws_wd>160</mxmm_ws_wd>\\n        <mxmm_mont_ws_occrrnc_de>20180824</mxmm_mont_ws_occrrnc_de>\\n        <mt_prcpt_sm>372.3</mt_prcpt_sm>\\n        <dstd_se>\\xed\\x98\\xb8\\xec\\x9a\\xb0</dstd_se>\\n        <inj_popltn>0</inj_popltn>\\n        <mss_popltn>0</mss_popltn>\\n        <on_mxmm_prcpt>197</on_mxmm_prcpt>\\n        <death_popltn>0</death_popltn>\\n        <mxmm_ws>6.1</mxmm_ws>\\n        <dmge_scale>237054</dmge_scale>\\n        <month>8</month>\\n        <skey>19</skey>\\n        <mxmm_mont_ws>11.8</mxmm_mont_ws>\\n        <on_mxmm_prcpt_occrrnc_de>20180826</on_mxmm_prcpt_occrrnc_de>\\n        <signgu>\\xeb\\xb0\\x80\\xec\\x96\\x91\\xec\\x8b\\x9c</signgu>\\n        <prprty_dmge_se>\\xea\\xb3\\xb5\\xea\\xb3\\xb5\\xec\\x8b\\x9c\\xec\\x84\\xa4</prprty_dmge_se>\\n        <avrg_ws>1.1</avrg_ws>\\n        <mxmm_ws_occrrnc_de>20180824</mxmm_ws_occrrnc_de>\\n        <mxmm_mont_ws_wd>140</mxmm_mont_ws_wd>\\n      </item>\\n      <item>\\n        <yy>2018</yy>\\n        <mxmm_ws_wd>230</mxmm_ws_wd>\\n        <mxmm_mont_ws_occrrnc_de>20180824</mxmm_mont_ws_occrrnc_de>\\n        <mt_prcpt_sm>249.3</mt_prcpt_sm>\\n        <dstd_se>\\xed\\x98\\xb8\\xec\\x9a\\xb0</dstd_se>\\n        <inj_popltn>0</inj_popltn>\\n        <mss_popltn>0</mss_popltn>\\n        <on_mxmm_prcpt>77.5</on_mxmm_prcpt>\\n        <death_popltn>0</death_popltn>\\n        <mxmm_ws>9.4</mxmm_ws>\\n        <dmge_scale>900</dmge_scale>\\n        <month>8</month>\\n        <skey>20</skey>\\n        <mxmm_mont_ws>17.5</mxmm_mont_ws>\\n        <on_mxmm_prcpt_occrrnc_de>20180826</on_mxmm_prcpt_occrrnc_de>\\n        <signgu>\\xec\\x96\\x91\\xec\\x82\\xb0\\xec\\x8b\\x9c</signgu>\\n        <prprty_dmge_se>\\xea\\xb1\\xb4\\xeb\\xac\\xbc</prprty_dmge_se>\\n        <avrg_ws>2.5</avrg_ws>\\n        <mxmm_ws_occrrnc_de>20180824</mxmm_ws_occrrnc_de>\\n        <mxmm_mont_ws_wd>230</mxmm_mont_ws_wd>\\n      </item>\\n    </items>\\n    <numOfRows>20</numOfRows>\\n    <pageNo>1</pageNo>\\n    <totalCount>202</totalCount>\\n  </body>\\n</response>\\n'\n"
          ]
        }
      ],
      "source": [
        "import requests\n",
        "\n",
        "url = 'http://apis.data.go.kr/6480000/gnDsdtFrgltyAreaDateService/getgnDsdtFrgltyAreaDate'\n",
        "params ={'serviceKey' : 'Rli8sfLcVrRM3yQD%2FeB2I%2FMt67GvJCswRbki%2F%2BxRwPys8S6QJcpotiy0sYabqYai4BanuE3%2BpfDL8ToHd91Wfg%3D%3D', 'numOfRows' : '20', 'pageNo' : '1', 'resultType' : 'xml' }\n",
        "\n",
        "response = requests.get(url, params=params)\n",
        "print(response.content)\n"
      ]
    },
    {
      "cell_type": "code",
      "source": [
        "from bs4 import BeautifulSoup\n",
        "\n",
        "soup = BeautifulSoup(response.content, features=\"xml\")"
      ],
      "metadata": {
        "id": "maK16jw-LIbX"
      },
      "execution_count": 22,
      "outputs": []
    },
    {
      "cell_type": "code",
      "source": [
        "soup.find_all('mxmm_ws')"
      ],
      "metadata": {
        "colab": {
          "base_uri": "https://localhost:8080/"
        },
        "id": "Tbxxn-LeLK7v",
        "outputId": "0ebd9868-8391-4793-e95e-5d9806818f83"
      },
      "execution_count": 23,
      "outputs": [
        {
          "output_type": "execute_result",
          "data": {
            "text/plain": [
              "[<mxmm_ws>6</mxmm_ws>,\n",
              " <mxmm_ws>6</mxmm_ws>,\n",
              " <mxmm_ws>6.3</mxmm_ws>,\n",
              " <mxmm_ws>10.1</mxmm_ws>,\n",
              " <mxmm_ws>10.1</mxmm_ws>,\n",
              " <mxmm_ws>10.1</mxmm_ws>,\n",
              " <mxmm_ws>10.1</mxmm_ws>,\n",
              " <mxmm_ws>6.1</mxmm_ws>,\n",
              " <mxmm_ws>6.1</mxmm_ws>,\n",
              " <mxmm_ws>7.5</mxmm_ws>,\n",
              " <mxmm_ws>7.5</mxmm_ws>,\n",
              " <mxmm_ws>7.5</mxmm_ws>,\n",
              " <mxmm_ws>7.5</mxmm_ws>,\n",
              " <mxmm_ws>7.5</mxmm_ws>,\n",
              " <mxmm_ws>8</mxmm_ws>,\n",
              " <mxmm_ws>6</mxmm_ws>,\n",
              " <mxmm_ws>6.9</mxmm_ws>,\n",
              " <mxmm_ws>6.1</mxmm_ws>,\n",
              " <mxmm_ws>6.1</mxmm_ws>,\n",
              " <mxmm_ws>9.4</mxmm_ws>]"
            ]
          },
          "metadata": {},
          "execution_count": 23
        }
      ]
    }
  ]
}