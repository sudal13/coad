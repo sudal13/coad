{
  "nbformat": 4,
  "nbformat_minor": 0,
  "metadata": {
    "colab": {
      "provenance": [],
      "authorship_tag": "ABX9TyOiKUCOCOVYA6EXpLCfQC8R",
      "include_colab_link": true
    },
    "kernelspec": {
      "name": "python3",
      "display_name": "Python 3"
    },
    "language_info": {
      "name": "python"
    }
  },
  "cells": [
    {
      "cell_type": "markdown",
      "metadata": {
        "id": "view-in-github",
        "colab_type": "text"
      },
      "source": [
        "<a href=\"https://colab.research.google.com/github/sudal13/coad/blob/main/DaysHeatWaves.ipynb\" target=\"_parent\"><img src=\"https://colab.research.google.com/assets/colab-badge.svg\" alt=\"Open In Colab\"/></a>"
      ]
    },
    {
      "cell_type": "code",
      "source": [
        "import requests\n",
        "\n",
        "url = 'http://apis.data.go.kr/1741000/DaysHeatWavesMajorCitiesYear/getDaysHeatWavesMajorCitiesYearList'\n",
        "params ={'serviceKey' : 'Rli8sfLcVrRM3yQD%2FeB2I%2FMt67GvJCswRbki%2F%2BxRwPys8S6QJcpotiy0sYabqYai4BanuE3%2BpfDL8ToHd91Wfg%3D%3D', 'pageNo' : '1', 'numOfRows' : '3', 'type' : 'xml', 'bas_yy' : '2021' }\n",
        "\n",
        "response = requests.get(url, params=params)\n",
        "print(response.content)\n"
      ],
      "metadata": {
        "colab": {
          "base_uri": "https://localhost:8080/"
        },
        "id": "6gv3_DdjagNI",
        "outputId": "d3b4407c-a5f3-459c-81cc-f35ac76396dd"
      },
      "execution_count": 45,
      "outputs": [
        {
          "output_type": "stream",
          "name": "stdout",
          "text": [
            "b'<?xml version=\"1.0\" encoding=\"UTF-8\"?>\\n\\n<DaysHeatWavesMajorCitiesYear>\\n  <head>\\n    <totalCount>1</totalCount>\\n    <numOfRows>3</numOfRows>\\n    <pageNo>1</pageNo>\\n    <type>XML</type>\\n    <RESULT>\\n      <resultCode>INFO-0</resultCode>\\n      <resultMsg>NOMAL SERVICE</resultMsg>\\n    </RESULT>\\n  </head>\\n  <row>\\n    <bas_yy>2021</bas_yy>\\n    <lseoul>18</lseoul>\\n    <lgangneung>11</lgangneung>\\n    <ldaejeon>21</ldaejeon>\\n    <ldaegu>23</ldaegu>\\n    <lgwangju>14</lgwangju>\\n    <lbusan>3</lbusan>\\n    <anat_dd_avg>11.8</anat_dd_avg>\\n  </row>\\n</DaysHeatWavesMajorCitiesYear>\\n\\n'\n"
          ]
        }
      ]
    },
    {
      "cell_type": "code",
      "source": [
        "from bs4 import BeautifulSoup\n",
        "\n",
        "soup = BeautifulSoup(response.content, features=\"xml\")"
      ],
      "metadata": {
        "id": "XbMju8o3IWNN"
      },
      "execution_count": 46,
      "outputs": []
    },
    {
      "cell_type": "code",
      "source": [
        "soup.find_all('lseoul')"
      ],
      "metadata": {
        "colab": {
          "base_uri": "https://localhost:8080/"
        },
        "id": "CUFz_3Y4Iawk",
        "outputId": "aadcff57-3884-4e04-9b4c-a2519a6710f5"
      },
      "execution_count": 47,
      "outputs": [
        {
          "output_type": "execute_result",
          "data": {
            "text/plain": [
              "[<lseoul>18</lseoul>]"
            ]
          },
          "metadata": {},
          "execution_count": 47
        }
      ]
    }
  ]
}