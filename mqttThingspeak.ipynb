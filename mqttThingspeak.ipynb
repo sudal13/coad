{
  "nbformat": 4,
  "nbformat_minor": 0,
  "metadata": {
    "colab": {
      "provenance": [],
      "authorship_tag": "ABX9TyMMfUh36heZX1z7wq+qR7pb",
      "include_colab_link": true
    },
    "kernelspec": {
      "name": "python3",
      "display_name": "Python 3"
    },
    "language_info": {
      "name": "python"
    }
  },
  "cells": [
    {
      "cell_type": "markdown",
      "metadata": {
        "id": "view-in-github",
        "colab_type": "text"
      },
      "source": [
        "<a href=\"https://colab.research.google.com/github/sudal13/coad/blob/main/mqttThingspeak.ipynb\" target=\"_parent\"><img src=\"https://colab.research.google.com/assets/colab-badge.svg\" alt=\"Open In Colab\"/></a>"
      ]
    },
    {
      "cell_type": "code",
      "execution_count": 1,
      "metadata": {
        "colab": {
          "base_uri": "https://localhost:8080/"
        },
        "id": "nhJFzRFgXBQ0",
        "outputId": "ea7f2f23-4e34-47ca-9056-6557778496f3"
      },
      "outputs": [
        {
          "output_type": "stream",
          "name": "stdout",
          "text": [
            "Collecting paho-mqtt\n",
            "  Downloading paho_mqtt-2.0.0-py3-none-any.whl (66 kB)\n",
            "\u001b[?25l     \u001b[90m━━━━━━━━━━━━━━━━━━━━━━━━━━━━━━━━━━━━━━━━\u001b[0m \u001b[32m0.0/66.9 kB\u001b[0m \u001b[31m?\u001b[0m eta \u001b[36m-:--:--\u001b[0m\r\u001b[2K     \u001b[91m━━━━━━━━━━━━━━━━━━━━━━━━━━━━━━━━━━━━\u001b[0m\u001b[91m╸\u001b[0m\u001b[90m━━━\u001b[0m \u001b[32m61.4/66.9 kB\u001b[0m \u001b[31m1.9 MB/s\u001b[0m eta \u001b[36m0:00:01\u001b[0m\r\u001b[2K     \u001b[90m━━━━━━━━━━━━━━━━━━━━━━━━━━━━━━━━━━━━━━━━\u001b[0m \u001b[32m66.9/66.9 kB\u001b[0m \u001b[31m1.5 MB/s\u001b[0m eta \u001b[36m0:00:00\u001b[0m\n",
            "\u001b[?25hInstalling collected packages: paho-mqtt\n",
            "Successfully installed paho-mqtt-2.0.0\n"
          ]
        }
      ],
      "source": [
        "!pip install paho-mqtt"
      ]
    },
    {
      "cell_type": "code",
      "source": [
        "import json\n",
        "import requests\n",
        "n=0\n",
        "\n",
        "def doit(topic, payload):\n",
        "  global n\n",
        "  print(topic, payload)\n",
        "  j=json.loads(payload)\n",
        "  #print(j['co2'])\n",
        "  #url='https://api.thingspeak.com/update?api_key=MBXHFKNOS3NTXOGA'\n",
        "  url='https://api.thingspeak.com/update?api_key=VDJ6OCK139RTMUZ6'\n",
        "  url +='&field1='+j['co2']\n",
        "  url +='&field2='+j['bme680'].split(',')[0]\n",
        "  if n>15:\n",
        "    r=requests.get(url)\n",
        "    print(url, r.text)\n",
        "    n=0\n",
        "  n+=1"
      ],
      "metadata": {
        "id": "n7R0FxQhXQzE"
      },
      "execution_count": 2,
      "outputs": []
    },
    {
      "cell_type": "code",
      "source": [
        "import paho.mqtt.client as mqtt\n",
        "\n",
        "def on_connect(client, userdata, flags, reason_code, properties):\n",
        "    print(f\"Connected with result code {reason_code}\")\n",
        "    client.subscribe(\"connectware/indoor/data/1501\")\n",
        "\n",
        "def on_message(client, userdata, msg):\n",
        "    doit(msg.topic, msg.payload.decode('utf8'))\n",
        "\n",
        "client = mqtt.Client(mqtt.CallbackAPIVersion.VERSION2)\n",
        "client.on_connect = on_connect\n",
        "client.on_message = on_message\n",
        "\n",
        "client.connect(\"damoa.io\", 1883, 60)\n",
        "client.loop_forever()"
      ],
      "metadata": {
        "colab": {
          "base_uri": "https://localhost:8080/"
        },
        "id": "rwLFqZ18XdAv",
        "outputId": "011e5bd6-9b1f-42e6-b33e-078c0d1fe98d"
      },
      "execution_count": null,
      "outputs": [
        {
          "output_type": "stream",
          "name": "stdout",
          "text": [
            "Connected with result code Success\n",
            "connectware/indoor/data/1501 {\"dust\":\"49,62\",\"co2\":\"399\",\"bme680\":\"24.61,20.15,1842465,100673,54.43\",\"time\":\"2024-04-07 16:02:50\", \"serial\":261424, \"ip\":\"203.255.190.49\"}\n",
            "connectware/indoor/data/1501 {\"dust\":\"50,62\",\"co2\":\"399\",\"bme680\":\"24.61,20.15,1841204,100674,54.34\",\"time\":\"2024-04-07 16:02:51\", \"serial\":261425, \"ip\":\"203.255.190.49\"}\n",
            "connectware/indoor/data/1501 {\"dust\":\"50,62\",\"co2\":\"399\",\"bme680\":\"24.61,20.14,1843728,100675,54.34\",\"time\":\"2024-04-07 16:02:52\", \"serial\":261426, \"ip\":\"203.255.190.49\"}\n",
            "connectware/indoor/data/1501 {\"dust\":\"49,61\",\"co2\":\"399\",\"bme680\":\"24.61,20.15,1841204,100674,54.34\",\"time\":\"2024-04-07 16:02:53\", \"serial\":261427, \"ip\":\"203.255.190.49\"}\n",
            "connectware/indoor/data/1501 {\"dust\":\"48,60\",\"co2\":\"399\",\"bme680\":\"24.61,20.14,1848797,100675,54.34\",\"time\":\"2024-04-07 16:02:54\", \"serial\":261428, \"ip\":\"203.255.190.49\"}\n",
            "connectware/indoor/data/1501 {\"dust\":\"49,60\",\"co2\":\"399\",\"bme680\":\"24.61,20.15,1823728,100674,54.26\",\"time\":\"2024-04-07 16:02:55\", \"serial\":261429, \"ip\":\"203.255.190.49\"}\n",
            "connectware/indoor/data/1501 {\"dust\":\"48,58\",\"co2\":\"399\",\"bme680\":\"24.61,20.14,1843728,100674,54.26\",\"time\":\"2024-04-07 16:02:56\", \"serial\":261430, \"ip\":\"203.255.190.49\"}\n",
            "connectware/indoor/data/1501 {\"dust\":\"48,58\",\"co2\":\"399\",\"bme680\":\"24.61,20.13,1847527,100675,54.26\",\"time\":\"2024-04-07 16:02:57\", \"serial\":261431, \"ip\":\"203.255.190.49\"}\n",
            "connectware/indoor/data/1501 {\"dust\":\"47,58\",\"co2\":\"399\",\"bme680\":\"24.61,20.14,1847527,100674,54.26\",\"time\":\"2024-04-07 16:02:58\", \"serial\":261432, \"ip\":\"203.255.190.49\"}\n",
            "connectware/indoor/data/1501 {\"dust\":\"47,57\",\"co2\":\"399\",\"bme680\":\"24.61,20.13,1848797,100674,54.34\",\"time\":\"2024-04-07 16:02:59\", \"serial\":261433, \"ip\":\"203.255.190.49\"}\n",
            "connectware/indoor/data/1501 {\"dust\":\"47,57\",\"co2\":\"399\",\"bme680\":\"24.61,20.14,1829932,100674,54.43\",\"time\":\"2024-04-07 16:03:00\", \"serial\":261434, \"ip\":\"203.255.190.49\"}\n",
            "connectware/indoor/data/1501 {\"dust\":\"47,56\",\"co2\":\"399\",\"bme680\":\"24.61,20.13,1853893,100673,54.43\",\"time\":\"2024-04-07 16:03:01\", \"serial\":261435, \"ip\":\"203.255.190.49\"}\n",
            "connectware/indoor/data/1501 {\"dust\":\"47,56\",\"co2\":\"399\",\"bme680\":\"24.61,20.14,1847527,100673,54.43\",\"time\":\"2024-04-07 16:03:02\", \"serial\":261436, \"ip\":\"203.255.190.49\"}\n",
            "connectware/indoor/data/1501 {\"dust\":\"47,56\",\"co2\":\"399\",\"bme680\":\"24.61,20.13,1847527,100674,54.34\",\"time\":\"2024-04-07 16:03:03\", \"serial\":261437, \"ip\":\"203.255.190.49\"}\n",
            "connectware/indoor/data/1501 {\"dust\":\"46,54\",\"co2\":\"399\",\"bme680\":\"24.61,20.12,1834924,100674,54.26\",\"time\":\"2024-04-07 16:03:04\", \"serial\":261438, \"ip\":\"203.255.190.49\"}\n",
            "connectware/indoor/data/1501 {\"dust\":\"46,54\",\"co2\":\"399\",\"bme680\":\"24.61,20.12,1847527,100675,54.34\",\"time\":\"2024-04-07 16:03:05\", \"serial\":261439, \"ip\":\"203.255.190.49\"}\n",
            "connectware/indoor/data/1501 {\"dust\":\"44,52\",\"co2\":\"399\",\"bme680\":\"24.61,20.12,1847527,100674,54.34\",\"time\":\"2024-04-07 16:03:06\", \"serial\":261440, \"ip\":\"203.255.190.49\"}\n",
            "https://api.thingspeak.com/update?api_key=VDJ6OCK139RTMUZ6&field1=399&field2=24.61 14\n",
            "connectware/indoor/data/1501 {\"dust\":\"46,55\",\"co2\":\"399\",\"bme680\":\"24.61,20.12,1839945,100675,54.34\",\"time\":\"2024-04-07 16:03:07\", \"serial\":261441, \"ip\":\"203.255.190.49\"}\n",
            "connectware/indoor/data/1501 {\"dust\":\"46,55\",\"co2\":\"399\",\"bme680\":\"24.61,20.12,1838687,100675,54.26\",\"time\":\"2024-04-07 16:03:08\", \"serial\":261442, \"ip\":\"203.255.190.49\"}\n",
            "connectware/indoor/data/1501 {\"dust\":\"46,54\",\"co2\":\"399\",\"bme680\":\"24.61,20.11,1850068,100675,54.26\",\"time\":\"2024-04-07 16:03:09\", \"serial\":261443, \"ip\":\"203.255.190.49\"}\n",
            "connectware/indoor/data/1501 {\"dust\":\"46,55\",\"co2\":\"399\",\"bme680\":\"24.61,20.12,1839945,100675,54.26\",\"time\":\"2024-04-07 16:03:10\", \"serial\":261444, \"ip\":\"203.255.190.49\"}\n",
            "connectware/indoor/data/1501 {\"dust\":\"46,56\",\"co2\":\"399\",\"bme680\":\"24.61,20.12,1841204,100674,54.34\",\"time\":\"2024-04-07 16:03:11\", \"serial\":261445, \"ip\":\"203.255.190.49\"}\n",
            "connectware/indoor/data/1501 {\"dust\":\"49,60\",\"co2\":\"399\",\"bme680\":\"24.61,20.12,1843728,100675,54.26\",\"time\":\"2024-04-07 16:03:12\", \"serial\":261446, \"ip\":\"203.255.190.49\"}\n",
            "connectware/indoor/data/1501 {\"dust\":\"50,61\",\"co2\":\"399\",\"bme680\":\"24.61,20.11,1838687,100674,54.34\",\"time\":\"2024-04-07 16:03:13\", \"serial\":261447, \"ip\":\"203.255.190.49\"}\n",
            "connectware/indoor/data/1501 {\"dust\":\"50,62\",\"co2\":\"399\",\"bme680\":\"24.61,20.11,1851342,100674,54.26\",\"time\":\"2024-04-07 16:03:14\", \"serial\":261448, \"ip\":\"203.255.190.49\"}\n",
            "connectware/indoor/data/1501 {\"dust\":\"51,64\",\"co2\":\"399\",\"bme680\":\"24.61,20.11,1842465,100675,54.26\",\"time\":\"2024-04-07 16:03:15\", \"serial\":261449, \"ip\":\"203.255.190.49\"}\n",
            "connectware/indoor/data/1501 {\"dust\":\"50,63\",\"co2\":\"399\",\"bme680\":\"24.61,20.10,1836177,100675,54.26\",\"time\":\"2024-04-07 16:03:16\", \"serial\":261450, \"ip\":\"203.255.190.49\"}\n",
            "connectware/indoor/data/1501 {\"dust\":\"51,65\",\"co2\":\"399\",\"bme680\":\"24.61,20.12,1843728,100676,54.17\",\"time\":\"2024-04-07 16:03:17\", \"serial\":261451, \"ip\":\"203.255.190.49\"}\n",
            "connectware/indoor/data/1501 {\"dust\":\"51,65\",\"co2\":\"399\",\"bme680\":\"24.61,20.10,1852617,100676,54.17\",\"time\":\"2024-04-07 16:03:18\", \"serial\":261452, \"ip\":\"203.255.190.49\"}\n",
            "connectware/indoor/data/1501 {\"dust\":\"51,65\",\"co2\":\"399\",\"bme680\":\"24.61,20.10,1846259,100676,54.26\",\"time\":\"2024-04-07 16:03:19\", \"serial\":261453, \"ip\":\"203.255.190.49\"}\n",
            "connectware/indoor/data/1501 {\"dust\":\"51,66\",\"co2\":\"399\",\"bme680\":\"24.61,20.10,1831177,100675,54.17\",\"time\":\"2024-04-07 16:03:20\", \"serial\":261454, \"ip\":\"203.255.190.49\"}\n",
            "connectware/indoor/data/1501 {\"dust\":\"51,66\",\"co2\":\"399\",\"bme680\":\"24.61,20.10,1839945,100677,54.09\",\"time\":\"2024-04-07 16:03:21\", \"serial\":261455, \"ip\":\"203.255.190.49\"}\n",
            "connectware/indoor/data/1501 {\"dust\":\"51,65\",\"co2\":\"399\",\"bme680\":\"24.61,20.11,1843728,100675,54.17\",\"time\":\"2024-04-07 16:03:22\", \"serial\":261456, \"ip\":\"203.255.190.49\"}\n",
            "https://api.thingspeak.com/update?api_key=VDJ6OCK139RTMUZ6&field1=399&field2=24.61 15\n",
            "connectware/indoor/data/1501 {\"dust\":\"51,65\",\"co2\":\"399\",\"bme680\":\"24.61,20.10,1834924,100675,54.17\",\"time\":\"2024-04-07 16:03:23\", \"serial\":261457, \"ip\":\"203.255.190.49\"}\n",
            "connectware/indoor/data/1501 {\"dust\":\"50,63\",\"co2\":\"399\",\"bme680\":\"24.61,20.11,1851342,100676,54.26\",\"time\":\"2024-04-07 16:03:24\", \"serial\":261458, \"ip\":\"203.255.190.49\"}\n",
            "connectware/indoor/data/1501 {\"dust\":\"50,63\",\"co2\":\"399\",\"bme680\":\"24.61,20.11,1844993,100675,54.26\",\"time\":\"2024-04-07 16:03:25\", \"serial\":261459, \"ip\":\"203.255.190.49\"}\n",
            "connectware/indoor/data/1501 {\"dust\":\"48,61\",\"co2\":\"399\",\"bme680\":\"24.61,20.11,1836177,100675,54.17\",\"time\":\"2024-04-07 16:03:26\", \"serial\":261460, \"ip\":\"203.255.190.49\"}\n",
            "connectware/indoor/data/1501 {\"dust\":\"49,62\",\"co2\":\"399\",\"bme680\":\"24.61,20.11,1839945,100675,54.26\",\"time\":\"2024-04-07 16:03:27\", \"serial\":261461, \"ip\":\"203.255.190.49\"}\n",
            "connectware/indoor/data/1501 {\"dust\":\"49,62\",\"co2\":\"399\",\"bme680\":\"24.61,20.11,1842465,100675,54.26\",\"time\":\"2024-04-07 16:03:28\", \"serial\":261462, \"ip\":\"203.255.190.49\"}\n",
            "connectware/indoor/data/1501 {\"dust\":\"48,61\",\"co2\":\"399\",\"bme680\":\"24.61,20.10,1836177,100675,54.26\",\"time\":\"2024-04-07 16:03:29\", \"serial\":261463, \"ip\":\"203.255.190.49\"}\n",
            "connectware/indoor/data/1501 {\"dust\":\"48,63\",\"co2\":\"399\",\"bme680\":\"24.61,20.11,1847527,100675,54.26\",\"time\":\"2024-04-07 16:03:30\", \"serial\":261464, \"ip\":\"203.255.190.49\"}\n",
            "connectware/indoor/data/1501 {\"dust\":\"48,62\",\"co2\":\"399\",\"bme680\":\"24.61,20.10,1842465,100676,54.26\",\"time\":\"2024-04-07 16:03:31\", \"serial\":261465, \"ip\":\"203.255.190.49\"}\n",
            "connectware/indoor/data/1501 {\"dust\":\"48,63\",\"co2\":\"399\",\"bme680\":\"24.61,20.11,1829932,100675,54.26\",\"time\":\"2024-04-07 16:03:32\", \"serial\":261466, \"ip\":\"203.255.190.49\"}\n",
            "connectware/indoor/data/1501 {\"dust\":\"48,63\",\"co2\":\"399\",\"bme680\":\"24.61,20.11,1846259,100675,54.26\",\"time\":\"2024-04-07 16:03:33\", \"serial\":261467, \"ip\":\"203.255.190.49\"}\n",
            "connectware/indoor/data/1501 {\"dust\":\"49,64\",\"co2\":\"399\",\"bme680\":\"24.61,20.11,1843728,100675,54.26\",\"time\":\"2024-04-07 16:03:34\", \"serial\":261468, \"ip\":\"203.255.190.49\"}\n",
            "connectware/indoor/data/1501 {\"dust\":\"50,66\",\"co2\":\"399\",\"bme680\":\"24.61,20.12,1839945,100675,54.26\",\"time\":\"2024-04-07 16:03:35\", \"serial\":261469, \"ip\":\"203.255.190.49\"}\n",
            "connectware/indoor/data/1501 {\"dust\":\"51,65\",\"co2\":\"399\",\"bme680\":\"24.61,20.12,1852617,100675,54.26\",\"time\":\"2024-04-07 16:03:36\", \"serial\":261470, \"ip\":\"203.255.190.49\"}\n",
            "connectware/indoor/data/1501 {\"dust\":\"51,65\",\"co2\":\"399\",\"bme680\":\"24.61,20.13,1850068,100675,54.26\",\"time\":\"2024-04-07 16:03:37\", \"serial\":261471, \"ip\":\"203.255.190.49\"}\n",
            "connectware/indoor/data/1501 {\"dust\":\"50,64\",\"co2\":\"399\",\"bme680\":\"24.61,20.13,1836177,100675,54.26\",\"time\":\"2024-04-07 16:03:38\", \"serial\":261472, \"ip\":\"203.255.190.49\"}\n",
            "https://api.thingspeak.com/update?api_key=VDJ6OCK139RTMUZ6&field1=399&field2=24.61 16\n",
            "connectware/indoor/data/1501 {\"dust\":\"51,64\",\"co2\":\"399\",\"bme680\":\"24.61,20.13,1844993,100676,54.17\",\"time\":\"2024-04-07 16:03:39\", \"serial\":261473, \"ip\":\"203.255.190.49\"}\n",
            "connectware/indoor/data/1501 {\"dust\":\"51,62\",\"co2\":\"399\",\"bme680\":\"24.62,20.13,1843728,100676,54.17\",\"time\":\"2024-04-07 16:03:40\", \"serial\":261474, \"ip\":\"203.255.190.49\"}\n"
          ]
        }
      ]
    }
  ]
}